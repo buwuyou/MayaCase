{
 "cells": [
  {
   "cell_type": "markdown",
   "id": "1973c750-373d-443e-8362-0c6cafa2c32d",
   "metadata": {},
   "source": [
    "# This notebook contains the code for two case studies."
   ]
  },
  {
   "cell_type": "code",
   "execution_count": 16,
   "id": "bd6e3752",
   "metadata": {},
   "outputs": [
    {
     "data": {
      "text/html": [
       "\n",
       "            <style>\n",
       "                .geemap-dark {\n",
       "                    --jp-widgets-color: white;\n",
       "                    --jp-widgets-label-color: white;\n",
       "                    --jp-ui-font-color1: white;\n",
       "                    --jp-layout-color2: #454545;\n",
       "                    background-color: #383838;\n",
       "                }\n",
       "\n",
       "                .geemap-dark .jupyter-button {\n",
       "                    --jp-layout-color3: #383838;\n",
       "                }\n",
       "\n",
       "                .geemap-colab {\n",
       "                    background-color: var(--colab-primary-surface-color, white);\n",
       "                }\n",
       "\n",
       "                .geemap-colab .jupyter-button {\n",
       "                    --jp-layout-color3: var(--colab-primary-surface-color, white);\n",
       "                }\n",
       "            </style>\n",
       "            "
      ],
      "text/plain": [
       "<IPython.core.display.HTML object>"
      ]
     },
     "metadata": {},
     "output_type": "display_data"
    },
    {
     "data": {
      "text/html": [
       "        <script type=\"text/javascript\">\n",
       "        window.PlotlyConfig = {MathJaxConfig: 'local'};\n",
       "        if (window.MathJax && window.MathJax.Hub && window.MathJax.Hub.Config) {window.MathJax.Hub.Config({SVG: {font: \"STIX-Web\"}});}\n",
       "        if (typeof require !== 'undefined') {\n",
       "        require.undef(\"plotly\");\n",
       "        requirejs.config({\n",
       "            paths: {\n",
       "                'plotly': ['https://cdn.plot.ly/plotly-2.31.1.min']\n",
       "            }\n",
       "        });\n",
       "        require(['plotly'], function(Plotly) {\n",
       "            window._Plotly = Plotly;\n",
       "        });\n",
       "        }\n",
       "        </script>\n",
       "        "
      ]
     },
     "metadata": {},
     "output_type": "display_data"
    }
   ],
   "source": [
    "import numpy as np\n",
    "import pandas as pd\n",
    "import rasterio\n",
    "import geopandas as gpd\n",
    "from rasterio.enums import Resampling\n",
    "from rasterio.mask import mask\n",
    "from rasterio.warp import calculate_default_transform, reproject, Resampling\n",
    "import glob\n",
    "import os\n",
    "import re\n",
    "from tqdm import tqdm\n",
    "\n",
    "import pyproj\n",
    "from pyproj import CRS, transform\n",
    "\n",
    "from leafmap import leafmap\n",
    "\n",
    "import ee\n",
    "ee.Initialize()\n",
    "import geemap\n",
    "\n",
    "import plotly.offline as pyo\n",
    "pyo.init_notebook_mode(connected=True)\n",
    "\n",
    "import plotly.graph_objects as go\n",
    "\n",
    "%matplotlib inline"
   ]
  },
  {
   "cell_type": "markdown",
   "id": "70ecc768-e927-4a7f-be68-763726434a55",
   "metadata": {},
   "source": [
    "# Case One: Mangrove"
   ]
  },
  {
   "cell_type": "code",
   "execution_count": 2,
   "id": "467775ae-0f3e-439a-bc63-f3d129ca97d4",
   "metadata": {},
   "outputs": [],
   "source": [
    "def get_latlon(geojson_file):\n",
    "    \"\"\"\n",
    "    Function to extract latitude, longitude, and bounding box from a GeoJSON file.\n",
    "    \n",
    "    Args:\n",
    "        geojson_file (str): Path to the GeoJSON file.\n",
    "        \n",
    "    Returns:\n",
    "        tuple: A tuple containing latitude, longitude, and bounding box (latitude, longitude, bbox).\n",
    "    \"\"\"    \n",
    "    gdf = gpd.read_file(geojson_file)\n",
    "    bbox = gdf.total_bounds\n",
    "    centroid = gdf.centroid.to_crs(gdf.crs)\n",
    "    longitude = centroid.x[0]\n",
    "    latitude = centroid.y[0]\n",
    "    return latitude, longitude, bbox\n",
    "\n",
    "def clip_raster_with_geojson(input_raster, output_raster, geojson_file):\n",
    "    \"\"\"\n",
    "    Function to clip a raster using a GeoJSON file and save the clipped raster to a new file.\n",
    "    \n",
    "    Args:\n",
    "        input_raster (str): Path to the input raster file.\n",
    "        output_raster (str): Path to save the clipped raster file.\n",
    "        geojson_file (str): Path to the GeoJSON file used for clipping.\n",
    "    \"\"\"\n",
    "    # Open the GeoJSON file\n",
    "    gdf = gpd.read_file(geojson_file)\n",
    "    \n",
    "    # Get the bounding box of the GeoJSON geometry\n",
    "    bbox = gdf.total_bounds\n",
    "    \n",
    "    with rasterio.open(input_raster) as src:\n",
    "        # Clip the raster using the GeoJSON geometry\n",
    "        clipped_data, clipped_transform = mask(src, gdf.geometry, crop=True)\n",
    "        \n",
    "        # Update the metadata\n",
    "        profile = src.profile\n",
    "        profile.update({\n",
    "            'height': clipped_data.shape[1],\n",
    "            'width': clipped_data.shape[2],\n",
    "            'transform': clipped_transform,\n",
    "            'compress': 'lzw'\n",
    "        })\n",
    "        \n",
    "        # Write the clipped raster to a new file\n",
    "        with rasterio.open(output_raster, 'w', **profile) as dst:\n",
    "            dst.write(clipped_data)\n",
    "\n",
    "def get_epsg_from_latlon(geojson_file):\n",
    "    \"\"\"\n",
    "    Function to determine the EPSG code from a GeoJSON file based on its centroid latitude and longitude.\n",
    "    \n",
    "    Args:\n",
    "        geojson_file (str): Path to the GeoJSON file.\n",
    "        \n",
    "    Returns:\n",
    "        int: EPSG code corresponding to the GeoJSON file's centroid location.\n",
    "    \"\"\"\n",
    "    gdf = gpd.read_file(geojson_file)\n",
    "    centroid_mercator = gdf.to_crs('epsg:3785').centroid.to_crs(gdf.crs)\n",
    "    #centroid_equal_area = gdf.to_crs('+proj=cea').centroid.to_crs(gdf.crs)\n",
    "    latitude = centroid_mercator.x[0]\n",
    "    longitude = centroid_mercator.y[0]\n",
    "    utm_zone = int((longitude + 180) // 6) + 1\n",
    "    if latitude >= 0:\n",
    "        epsg_code = 32600 + utm_zone\n",
    "    else:\n",
    "        epsg_code = 32700 + utm_zone\n",
    "    return epsg_code\n",
    "\n",
    "def calculate_coverage(input_path, epsg_code, value=1, mode='utm'):\n",
    "    \"\"\"\n",
    "    Function to calculate the coverage area of a raster file in square kilometers.\n",
    "    \n",
    "    Args:\n",
    "        input_path (str): Path to the input raster file.\n",
    "        epsg_code (int): EPSG code for the raster file's coordinate reference system.\n",
    "        value (int): Value to consider when calculating coverage area (default is 1).\n",
    "        mode (str): Mode for determining pixel resolution: 'utm' for UTM or 'gmw' for a fixed resolution of 30 meters (default is 'utm').\n",
    "        \n",
    "    Returns:\n",
    "        float: Coverage area in square kilometers.\n",
    "    \"\"\"\n",
    "    with rasterio.open(input_path) as src:\n",
    "        # Reproject the coordinates of a single point\n",
    "        dst_crs = CRS(f'epsg:{epsg_code}')\n",
    "        transform, width, height = calculate_default_transform(\n",
    "            src.crs, dst_crs, src.width, src.height, *src.bounds)\n",
    "        raster = src.read(1)\n",
    "        if mode=='utm':\n",
    "            # Get the pixel resolution in meters\n",
    "            res_meters = transform[0]\n",
    "        elif mode=='gmw':\n",
    "            res_meters = 30\n",
    "        # Calculate area where value equals 1, unit in sq km\n",
    "        area = np.sum(raster == value) * res_meters**2 / 1000000\n",
    "        return area"
   ]
  },
  {
   "cell_type": "markdown",
   "id": "50135282-1ebe-4bf1-9712-0a1c9a32aae0",
   "metadata": {},
   "source": [
    "### c1. Clip images to AOI"
   ]
  },
  {
   "cell_type": "code",
   "execution_count": 5,
   "id": "a57c39b1",
   "metadata": {},
   "outputs": [
    {
     "data": {
      "text/html": [
       "\n",
       "            <style>\n",
       "                .geemap-dark {\n",
       "                    --jp-widgets-color: white;\n",
       "                    --jp-widgets-label-color: white;\n",
       "                    --jp-ui-font-color1: white;\n",
       "                    --jp-layout-color2: #454545;\n",
       "                    background-color: #383838;\n",
       "                }\n",
       "\n",
       "                .geemap-dark .jupyter-button {\n",
       "                    --jp-layout-color3: #383838;\n",
       "                }\n",
       "\n",
       "                .geemap-colab {\n",
       "                    background-color: var(--colab-primary-surface-color, white);\n",
       "                }\n",
       "\n",
       "                .geemap-colab .jupyter-button {\n",
       "                    --jp-layout-color3: var(--colab-primary-surface-color, white);\n",
       "                }\n",
       "            </style>\n",
       "            "
      ],
      "text/plain": [
       "<IPython.core.display.HTML object>"
      ]
     },
     "metadata": {},
     "output_type": "display_data"
    },
    {
     "name": "stderr",
     "output_type": "stream",
     "text": [
      "Clip image: 100%|██████████████████████████████| 5/5 [00:00<00:00, 33182.78it/s]"
     ]
    },
    {
     "name": "stdout",
     "output_type": "stream",
     "text": [
      "Clipped file exists.\n",
      "Clipped file exists.\n",
      "Clipped file exists.\n",
      "Clipped file exists.\n",
      "Clipped file exists.\n"
     ]
    },
    {
     "name": "stderr",
     "output_type": "stream",
     "text": [
      "\n"
     ]
    }
   ],
   "source": [
    "base_dir = f'/mnt/warehouse/X/maya_geospatial_engineer_case_study'\n",
    "imgs = glob.glob(f'{base_dir}/gmw_????.tif',recursive=True)\n",
    "aoi = f'/{base_dir}/mangroves_case_study.geojson'\n",
    "for i in tqdm(imgs,\"Clip image\"):\n",
    "    input_raster = i\n",
    "    output_raster = f'{base_dir}/{os.path.basename(input_raster).replace(\".tif\", \"_clip.tif\")}'\n",
    "    if not os.path.exists(output_raster):\n",
    "        clip_raster_with_geojson(input_raster, output_raster, aoi)\n",
    "    else:\n",
    "        print (f'Clipped file exists.')"
   ]
  },
  {
   "cell_type": "markdown",
   "id": "8603821e-aafa-4d6e-841d-2a834d92b308",
   "metadata": {},
   "source": [
    "### c2. Dynamic visualize images over the years"
   ]
  },
  {
   "cell_type": "code",
   "execution_count": 17,
   "id": "72700527-00a4-4db6-ae1c-095f5fcdddac",
   "metadata": {},
   "outputs": [
    {
     "data": {
      "text/html": [
       "\n",
       "            <style>\n",
       "                .geemap-dark {\n",
       "                    --jp-widgets-color: white;\n",
       "                    --jp-widgets-label-color: white;\n",
       "                    --jp-ui-font-color1: white;\n",
       "                    --jp-layout-color2: #454545;\n",
       "                    background-color: #383838;\n",
       "                }\n",
       "\n",
       "                .geemap-dark .jupyter-button {\n",
       "                    --jp-layout-color3: #383838;\n",
       "                }\n",
       "\n",
       "                .geemap-colab {\n",
       "                    background-color: var(--colab-primary-surface-color, white);\n",
       "                }\n",
       "\n",
       "                .geemap-colab .jupyter-button {\n",
       "                    --jp-layout-color3: var(--colab-primary-surface-color, white);\n",
       "                }\n",
       "            </style>\n",
       "            "
      ],
      "text/plain": [
       "<IPython.core.display.HTML object>"
      ]
     },
     "metadata": {},
     "output_type": "display_data"
    },
    {
     "name": "stdout",
     "output_type": "stream",
     "text": [
      "5.81621360818146 0.7511877748750028\n"
     ]
    },
    {
     "data": {
      "application/vnd.jupyter.widget-view+json": {
       "model_id": "fa2f55f7500f4fcea07ab2b0c2c15a78",
       "version_major": 2,
       "version_minor": 0
      },
      "text/plain": [
       "Map(center=[5.81621360818146, 0.7511877748750028], controls=(ZoomControl(options=['position', 'zoom_in_text', …"
      ]
     },
     "execution_count": 17,
     "metadata": {},
     "output_type": "execute_result"
    }
   ],
   "source": [
    "\n",
    "lat,lon,bbox = get_latlon(aoi)\n",
    "print (lat,lon)\n",
    "labels = ['Mangrove 2016','Mangrove 2017','Mangrove 2018','Mangrove 2019','Mangrove 2020']\n",
    "m = leafmap.Map(center=[lat,lon], zoom=12)\n",
    "m.add_basemap(\"SATELLITE\")\n",
    "m.add_time_slider(\n",
    "    imgs,\n",
    "    labels,\n",
    "    time_interval=3,\n",
    "    position=\"bottomright\",\n",
    "    band=[1], # I would like to change the color\n",
    ")\n",
    "m"
   ]
  },
  {
   "cell_type": "markdown",
   "id": "28e8b937-8f5a-4205-ace6-b056523bf164",
   "metadata": {},
   "source": [
    "### c3. Visually validation on raw Landsat images"
   ]
  },
  {
   "cell_type": "code",
   "execution_count": 33,
   "id": "9e6f30fc-ba31-49e0-998c-27461c6e652a",
   "metadata": {},
   "outputs": [
    {
     "data": {
      "text/html": [
       "\n",
       "            <style>\n",
       "                .geemap-dark {\n",
       "                    --jp-widgets-color: white;\n",
       "                    --jp-widgets-label-color: white;\n",
       "                    --jp-ui-font-color1: white;\n",
       "                    --jp-layout-color2: #454545;\n",
       "                    background-color: #383838;\n",
       "                }\n",
       "\n",
       "                .geemap-dark .jupyter-button {\n",
       "                    --jp-layout-color3: #383838;\n",
       "                }\n",
       "\n",
       "                .geemap-colab {\n",
       "                    background-color: var(--colab-primary-surface-color, white);\n",
       "                }\n",
       "\n",
       "                .geemap-colab .jupyter-button {\n",
       "                    --jp-layout-color3: var(--colab-primary-surface-color, white);\n",
       "                }\n",
       "            </style>\n",
       "            "
      ],
      "text/plain": [
       "<IPython.core.display.HTML object>"
      ]
     },
     "metadata": {},
     "output_type": "display_data"
    },
    {
     "name": "stdout",
     "output_type": "stream",
     "text": [
      "['Landsat 2016', 'Landsat 2017', 'Landsat 2018', 'Landsat 2019', 'Landsat 2020']\n"
     ]
    },
    {
     "data": {
      "application/vnd.jupyter.widget-view+json": {
       "model_id": "12fd6dcd1bb842ed8bcbd665b52dde7c",
       "version_major": 2,
       "version_minor": 0
      },
      "text/plain": [
       "Map(center=[5.824245259322954, 0.7579691320340931], controls=(WidgetControl(options=['position', 'transparent_…"
      ]
     },
     "execution_count": 33,
     "metadata": {},
     "output_type": "execute_result"
    }
   ],
   "source": [
    "roi = ee.Geometry.Polygon(\n",
    "    [\n",
    "        [\n",
    "            [bbox[0], bbox[1]],\n",
    "            [bbox[0], bbox[3]],\n",
    "            [bbox[2], bbox[3]],\n",
    "            [bbox[2], bbox[1]],\n",
    "            [bbox[0], bbox[1]],\n",
    "        ]\n",
    "    ],\n",
    "    None,\n",
    "    False,\n",
    ")\n",
    "landsat_ts = geemap.landsat_timeseries(\n",
    "    roi=roi, start_year=2016, end_year=2020, start_date=\"06-10\", end_date=\"09-20\"\n",
    ")\n",
    "layer_names = [\"Landsat \" + str(year) for year in range(2016, 2021)]\n",
    "print(layer_names)\n",
    "landsat_vis = {\n",
    "    \"min\": 0,\n",
    "    \"max\": 0.3,\n",
    "    \"gamma\": [1, 1, 1],\n",
    "    \"bands\": [\"NIR\", \"Red\", \"Green\"],\n",
    "}\n",
    "Map = geemap.Map()\n",
    "Map.ts_inspector(\n",
    "    left_ts=landsat_ts,\n",
    "    right_ts=landsat_ts,\n",
    "    left_names=layer_names,\n",
    "    right_names=layer_names,\n",
    "    left_vis=landsat_vis,\n",
    "    right_vis=landsat_vis,\n",
    ")\n",
    "Map.centerObject(roi, zoom=8)\n",
    "Map"
   ]
  },
  {
   "cell_type": "markdown",
   "id": "4223e383-548e-4fc8-8d39-b17a179ae929",
   "metadata": {},
   "source": [
    "### c4. Calculate and plot coverage change and change rates of mangrove"
   ]
  },
  {
   "cell_type": "code",
   "execution_count": 9,
   "id": "3828a9a0",
   "metadata": {},
   "outputs": [
    {
     "data": {
      "text/html": [
       "\n",
       "            <style>\n",
       "                .geemap-dark {\n",
       "                    --jp-widgets-color: white;\n",
       "                    --jp-widgets-label-color: white;\n",
       "                    --jp-ui-font-color1: white;\n",
       "                    --jp-layout-color2: #454545;\n",
       "                    background-color: #383838;\n",
       "                }\n",
       "\n",
       "                .geemap-dark .jupyter-button {\n",
       "                    --jp-layout-color3: #383838;\n",
       "                }\n",
       "\n",
       "                .geemap-colab {\n",
       "                    background-color: var(--colab-primary-surface-color, white);\n",
       "                }\n",
       "\n",
       "                .geemap-colab .jupyter-button {\n",
       "                    --jp-layout-color3: var(--colab-primary-surface-color, white);\n",
       "                }\n",
       "            </style>\n",
       "            "
      ],
      "text/plain": [
       "<IPython.core.display.HTML object>"
      ]
     },
     "metadata": {},
     "output_type": "display_data"
    },
    {
     "name": "stdout",
     "output_type": "stream",
     "text": [
      "Years [2016, 2017, 2018, 2019, 2020]\n",
      "Coverages [54.06080695276705, 54.932745685666376, 55.64906757526352, 54.91639683442451, 53.051416766834286]\n",
      "Change rates [0, 1.6128851603364647, 1.3039979718036503, -1.3165912256267351, -3.396035018854616]\n"
     ]
    }
   ],
   "source": [
    "epsg_code = get_epsg_from_latlon(aoi)\n",
    "clip_imgs = glob.glob(f'{base_dir}/gmw*clip.tif',recursive=True)\n",
    "clip_imgs.sort()\n",
    "\n",
    "years = []\n",
    "coverages = []\n",
    "for i in range(0,len(clip_imgs)):\n",
    "    year = int(re.match(r'.*?([1-3][0-9]{3})', os.path.basename(clip_imgs[i])).group(1))\n",
    "    coverage = calculate_coverage(clip_imgs[i], epsg_code, value=1, mode='utm')\n",
    "    coverages.append(coverage)\n",
    "    years.append(year)\n",
    "\n",
    "change_rates = [0]\n",
    "\n",
    "for i in range(1, len(coverages)):\n",
    "    old_value = coverages[i - 1]\n",
    "    new_value = coverages[i]\n",
    "    rate = ((new_value - old_value) / old_value) * 100\n",
    "    change_rates.append(rate)\n",
    "\n",
    "\n",
    "print ('Years', years)\n",
    "print ('Coverages', coverages)\n",
    "print('Change rates', change_rates)"
   ]
  },
  {
   "cell_type": "code",
   "execution_count": 10,
   "id": "8dbec3ea",
   "metadata": {},
   "outputs": [
    {
     "data": {
      "text/html": [
       "\n",
       "            <style>\n",
       "                .geemap-dark {\n",
       "                    --jp-widgets-color: white;\n",
       "                    --jp-widgets-label-color: white;\n",
       "                    --jp-ui-font-color1: white;\n",
       "                    --jp-layout-color2: #454545;\n",
       "                    background-color: #383838;\n",
       "                }\n",
       "\n",
       "                .geemap-dark .jupyter-button {\n",
       "                    --jp-layout-color3: #383838;\n",
       "                }\n",
       "\n",
       "                .geemap-colab {\n",
       "                    background-color: var(--colab-primary-surface-color, white);\n",
       "                }\n",
       "\n",
       "                .geemap-colab .jupyter-button {\n",
       "                    --jp-layout-color3: var(--colab-primary-surface-color, white);\n",
       "                }\n",
       "            </style>\n",
       "            "
      ],
      "text/plain": [
       "<IPython.core.display.HTML object>"
      ]
     },
     "metadata": {},
     "output_type": "display_data"
    },
    {
     "data": {
      "application/vnd.plotly.v1+json": {
       "config": {
        "plotlyServerURL": "https://plot.ly"
       },
       "data": [
        {
         "mode": "lines+markers",
         "name": "Mangrove Coverage",
         "type": "scatter",
         "x": [
          2016,
          2017,
          2018,
          2019,
          2020
         ],
         "y": [
          54.06080695276705,
          54.932745685666376,
          55.64906757526352,
          54.91639683442451,
          53.051416766834286
         ]
        },
        {
         "mode": "lines+markers",
         "name": "Change Rate (%)",
         "type": "scatter",
         "x": [
          2016,
          2017,
          2018,
          2019,
          2020
         ],
         "y": [
          0,
          1.6128851603364647,
          1.3039979718036503,
          -1.3165912256267351,
          -3.396035018854616
         ],
         "yaxis": "y2"
        }
       ],
       "layout": {
        "autosize": true,
        "hovermode": "closest",
        "template": {
         "data": {
          "bar": [
           {
            "error_x": {
             "color": "#2a3f5f"
            },
            "error_y": {
             "color": "#2a3f5f"
            },
            "marker": {
             "line": {
              "color": "#E5ECF6",
              "width": 0.5
             },
             "pattern": {
              "fillmode": "overlay",
              "size": 10,
              "solidity": 0.2
             }
            },
            "type": "bar"
           }
          ],
          "barpolar": [
           {
            "marker": {
             "line": {
              "color": "#E5ECF6",
              "width": 0.5
             },
             "pattern": {
              "fillmode": "overlay",
              "size": 10,
              "solidity": 0.2
             }
            },
            "type": "barpolar"
           }
          ],
          "carpet": [
           {
            "aaxis": {
             "endlinecolor": "#2a3f5f",
             "gridcolor": "white",
             "linecolor": "white",
             "minorgridcolor": "white",
             "startlinecolor": "#2a3f5f"
            },
            "baxis": {
             "endlinecolor": "#2a3f5f",
             "gridcolor": "white",
             "linecolor": "white",
             "minorgridcolor": "white",
             "startlinecolor": "#2a3f5f"
            },
            "type": "carpet"
           }
          ],
          "choropleth": [
           {
            "colorbar": {
             "outlinewidth": 0,
             "ticks": ""
            },
            "type": "choropleth"
           }
          ],
          "contour": [
           {
            "colorbar": {
             "outlinewidth": 0,
             "ticks": ""
            },
            "colorscale": [
             [
              0,
              "#0d0887"
             ],
             [
              0.1111111111111111,
              "#46039f"
             ],
             [
              0.2222222222222222,
              "#7201a8"
             ],
             [
              0.3333333333333333,
              "#9c179e"
             ],
             [
              0.4444444444444444,
              "#bd3786"
             ],
             [
              0.5555555555555556,
              "#d8576b"
             ],
             [
              0.6666666666666666,
              "#ed7953"
             ],
             [
              0.7777777777777778,
              "#fb9f3a"
             ],
             [
              0.8888888888888888,
              "#fdca26"
             ],
             [
              1,
              "#f0f921"
             ]
            ],
            "type": "contour"
           }
          ],
          "contourcarpet": [
           {
            "colorbar": {
             "outlinewidth": 0,
             "ticks": ""
            },
            "type": "contourcarpet"
           }
          ],
          "heatmap": [
           {
            "colorbar": {
             "outlinewidth": 0,
             "ticks": ""
            },
            "colorscale": [
             [
              0,
              "#0d0887"
             ],
             [
              0.1111111111111111,
              "#46039f"
             ],
             [
              0.2222222222222222,
              "#7201a8"
             ],
             [
              0.3333333333333333,
              "#9c179e"
             ],
             [
              0.4444444444444444,
              "#bd3786"
             ],
             [
              0.5555555555555556,
              "#d8576b"
             ],
             [
              0.6666666666666666,
              "#ed7953"
             ],
             [
              0.7777777777777778,
              "#fb9f3a"
             ],
             [
              0.8888888888888888,
              "#fdca26"
             ],
             [
              1,
              "#f0f921"
             ]
            ],
            "type": "heatmap"
           }
          ],
          "heatmapgl": [
           {
            "colorbar": {
             "outlinewidth": 0,
             "ticks": ""
            },
            "colorscale": [
             [
              0,
              "#0d0887"
             ],
             [
              0.1111111111111111,
              "#46039f"
             ],
             [
              0.2222222222222222,
              "#7201a8"
             ],
             [
              0.3333333333333333,
              "#9c179e"
             ],
             [
              0.4444444444444444,
              "#bd3786"
             ],
             [
              0.5555555555555556,
              "#d8576b"
             ],
             [
              0.6666666666666666,
              "#ed7953"
             ],
             [
              0.7777777777777778,
              "#fb9f3a"
             ],
             [
              0.8888888888888888,
              "#fdca26"
             ],
             [
              1,
              "#f0f921"
             ]
            ],
            "type": "heatmapgl"
           }
          ],
          "histogram": [
           {
            "marker": {
             "pattern": {
              "fillmode": "overlay",
              "size": 10,
              "solidity": 0.2
             }
            },
            "type": "histogram"
           }
          ],
          "histogram2d": [
           {
            "colorbar": {
             "outlinewidth": 0,
             "ticks": ""
            },
            "colorscale": [
             [
              0,
              "#0d0887"
             ],
             [
              0.1111111111111111,
              "#46039f"
             ],
             [
              0.2222222222222222,
              "#7201a8"
             ],
             [
              0.3333333333333333,
              "#9c179e"
             ],
             [
              0.4444444444444444,
              "#bd3786"
             ],
             [
              0.5555555555555556,
              "#d8576b"
             ],
             [
              0.6666666666666666,
              "#ed7953"
             ],
             [
              0.7777777777777778,
              "#fb9f3a"
             ],
             [
              0.8888888888888888,
              "#fdca26"
             ],
             [
              1,
              "#f0f921"
             ]
            ],
            "type": "histogram2d"
           }
          ],
          "histogram2dcontour": [
           {
            "colorbar": {
             "outlinewidth": 0,
             "ticks": ""
            },
            "colorscale": [
             [
              0,
              "#0d0887"
             ],
             [
              0.1111111111111111,
              "#46039f"
             ],
             [
              0.2222222222222222,
              "#7201a8"
             ],
             [
              0.3333333333333333,
              "#9c179e"
             ],
             [
              0.4444444444444444,
              "#bd3786"
             ],
             [
              0.5555555555555556,
              "#d8576b"
             ],
             [
              0.6666666666666666,
              "#ed7953"
             ],
             [
              0.7777777777777778,
              "#fb9f3a"
             ],
             [
              0.8888888888888888,
              "#fdca26"
             ],
             [
              1,
              "#f0f921"
             ]
            ],
            "type": "histogram2dcontour"
           }
          ],
          "mesh3d": [
           {
            "colorbar": {
             "outlinewidth": 0,
             "ticks": ""
            },
            "type": "mesh3d"
           }
          ],
          "parcoords": [
           {
            "line": {
             "colorbar": {
              "outlinewidth": 0,
              "ticks": ""
             }
            },
            "type": "parcoords"
           }
          ],
          "pie": [
           {
            "automargin": true,
            "type": "pie"
           }
          ],
          "scatter": [
           {
            "fillpattern": {
             "fillmode": "overlay",
             "size": 10,
             "solidity": 0.2
            },
            "type": "scatter"
           }
          ],
          "scatter3d": [
           {
            "line": {
             "colorbar": {
              "outlinewidth": 0,
              "ticks": ""
             }
            },
            "marker": {
             "colorbar": {
              "outlinewidth": 0,
              "ticks": ""
             }
            },
            "type": "scatter3d"
           }
          ],
          "scattercarpet": [
           {
            "marker": {
             "colorbar": {
              "outlinewidth": 0,
              "ticks": ""
             }
            },
            "type": "scattercarpet"
           }
          ],
          "scattergeo": [
           {
            "marker": {
             "colorbar": {
              "outlinewidth": 0,
              "ticks": ""
             }
            },
            "type": "scattergeo"
           }
          ],
          "scattergl": [
           {
            "marker": {
             "colorbar": {
              "outlinewidth": 0,
              "ticks": ""
             }
            },
            "type": "scattergl"
           }
          ],
          "scattermapbox": [
           {
            "marker": {
             "colorbar": {
              "outlinewidth": 0,
              "ticks": ""
             }
            },
            "type": "scattermapbox"
           }
          ],
          "scatterpolar": [
           {
            "marker": {
             "colorbar": {
              "outlinewidth": 0,
              "ticks": ""
             }
            },
            "type": "scatterpolar"
           }
          ],
          "scatterpolargl": [
           {
            "marker": {
             "colorbar": {
              "outlinewidth": 0,
              "ticks": ""
             }
            },
            "type": "scatterpolargl"
           }
          ],
          "scatterternary": [
           {
            "marker": {
             "colorbar": {
              "outlinewidth": 0,
              "ticks": ""
             }
            },
            "type": "scatterternary"
           }
          ],
          "surface": [
           {
            "colorbar": {
             "outlinewidth": 0,
             "ticks": ""
            },
            "colorscale": [
             [
              0,
              "#0d0887"
             ],
             [
              0.1111111111111111,
              "#46039f"
             ],
             [
              0.2222222222222222,
              "#7201a8"
             ],
             [
              0.3333333333333333,
              "#9c179e"
             ],
             [
              0.4444444444444444,
              "#bd3786"
             ],
             [
              0.5555555555555556,
              "#d8576b"
             ],
             [
              0.6666666666666666,
              "#ed7953"
             ],
             [
              0.7777777777777778,
              "#fb9f3a"
             ],
             [
              0.8888888888888888,
              "#fdca26"
             ],
             [
              1,
              "#f0f921"
             ]
            ],
            "type": "surface"
           }
          ],
          "table": [
           {
            "cells": {
             "fill": {
              "color": "#EBF0F8"
             },
             "line": {
              "color": "white"
             }
            },
            "header": {
             "fill": {
              "color": "#C8D4E3"
             },
             "line": {
              "color": "white"
             }
            },
            "type": "table"
           }
          ]
         },
         "layout": {
          "annotationdefaults": {
           "arrowcolor": "#2a3f5f",
           "arrowhead": 0,
           "arrowwidth": 1
          },
          "autotypenumbers": "strict",
          "coloraxis": {
           "colorbar": {
            "outlinewidth": 0,
            "ticks": ""
           }
          },
          "colorscale": {
           "diverging": [
            [
             0,
             "#8e0152"
            ],
            [
             0.1,
             "#c51b7d"
            ],
            [
             0.2,
             "#de77ae"
            ],
            [
             0.3,
             "#f1b6da"
            ],
            [
             0.4,
             "#fde0ef"
            ],
            [
             0.5,
             "#f7f7f7"
            ],
            [
             0.6,
             "#e6f5d0"
            ],
            [
             0.7,
             "#b8e186"
            ],
            [
             0.8,
             "#7fbc41"
            ],
            [
             0.9,
             "#4d9221"
            ],
            [
             1,
             "#276419"
            ]
           ],
           "sequential": [
            [
             0,
             "#0d0887"
            ],
            [
             0.1111111111111111,
             "#46039f"
            ],
            [
             0.2222222222222222,
             "#7201a8"
            ],
            [
             0.3333333333333333,
             "#9c179e"
            ],
            [
             0.4444444444444444,
             "#bd3786"
            ],
            [
             0.5555555555555556,
             "#d8576b"
            ],
            [
             0.6666666666666666,
             "#ed7953"
            ],
            [
             0.7777777777777778,
             "#fb9f3a"
            ],
            [
             0.8888888888888888,
             "#fdca26"
            ],
            [
             1,
             "#f0f921"
            ]
           ],
           "sequentialminus": [
            [
             0,
             "#0d0887"
            ],
            [
             0.1111111111111111,
             "#46039f"
            ],
            [
             0.2222222222222222,
             "#7201a8"
            ],
            [
             0.3333333333333333,
             "#9c179e"
            ],
            [
             0.4444444444444444,
             "#bd3786"
            ],
            [
             0.5555555555555556,
             "#d8576b"
            ],
            [
             0.6666666666666666,
             "#ed7953"
            ],
            [
             0.7777777777777778,
             "#fb9f3a"
            ],
            [
             0.8888888888888888,
             "#fdca26"
            ],
            [
             1,
             "#f0f921"
            ]
           ]
          },
          "colorway": [
           "#636efa",
           "#EF553B",
           "#00cc96",
           "#ab63fa",
           "#FFA15A",
           "#19d3f3",
           "#FF6692",
           "#B6E880",
           "#FF97FF",
           "#FECB52"
          ],
          "font": {
           "color": "#2a3f5f"
          },
          "geo": {
           "bgcolor": "white",
           "lakecolor": "white",
           "landcolor": "#E5ECF6",
           "showlakes": true,
           "showland": true,
           "subunitcolor": "white"
          },
          "hoverlabel": {
           "align": "left"
          },
          "hovermode": "closest",
          "mapbox": {
           "style": "light"
          },
          "paper_bgcolor": "white",
          "plot_bgcolor": "#E5ECF6",
          "polar": {
           "angularaxis": {
            "gridcolor": "white",
            "linecolor": "white",
            "ticks": ""
           },
           "bgcolor": "#E5ECF6",
           "radialaxis": {
            "gridcolor": "white",
            "linecolor": "white",
            "ticks": ""
           }
          },
          "scene": {
           "xaxis": {
            "backgroundcolor": "#E5ECF6",
            "gridcolor": "white",
            "gridwidth": 2,
            "linecolor": "white",
            "showbackground": true,
            "ticks": "",
            "zerolinecolor": "white"
           },
           "yaxis": {
            "backgroundcolor": "#E5ECF6",
            "gridcolor": "white",
            "gridwidth": 2,
            "linecolor": "white",
            "showbackground": true,
            "ticks": "",
            "zerolinecolor": "white"
           },
           "zaxis": {
            "backgroundcolor": "#E5ECF6",
            "gridcolor": "white",
            "gridwidth": 2,
            "linecolor": "white",
            "showbackground": true,
            "ticks": "",
            "zerolinecolor": "white"
           }
          },
          "shapedefaults": {
           "line": {
            "color": "#2a3f5f"
           }
          },
          "ternary": {
           "aaxis": {
            "gridcolor": "white",
            "linecolor": "white",
            "ticks": ""
           },
           "baxis": {
            "gridcolor": "white",
            "linecolor": "white",
            "ticks": ""
           },
           "bgcolor": "#E5ECF6",
           "caxis": {
            "gridcolor": "white",
            "linecolor": "white",
            "ticks": ""
           }
          },
          "title": {
           "x": 0.05
          },
          "xaxis": {
           "automargin": true,
           "gridcolor": "white",
           "linecolor": "white",
           "ticks": "",
           "title": {
            "standoff": 15
           },
           "zerolinecolor": "white",
           "zerolinewidth": 2
          },
          "yaxis": {
           "automargin": true,
           "gridcolor": "white",
           "linecolor": "white",
           "ticks": "",
           "title": {
            "standoff": 15
           },
           "zerolinecolor": "white",
           "zerolinewidth": 2
          }
         }
        },
        "title": {
         "text": "Changes in Mangrove Coverage Over Time"
        },
        "xaxis": {
         "autorange": true,
         "dtick": 1,
         "range": [
          2015.76,
          2020.24
         ],
         "tickmode": "linear",
         "title": {
          "text": "Year"
         },
         "type": "linear"
        },
        "yaxis": {
         "autorange": true,
         "range": [
          52.83704752536197,
          55.86343681673584
         ],
         "title": {
          "text": "Mangrove Coverage (km²)"
         },
         "type": "linear"
        },
        "yaxis2": {
         "autorange": true,
         "overlaying": "y",
         "range": [
          -3.809392509370385,
          2.0262426508522333
         ],
         "side": "right",
         "title": {
          "text": "Change Rate (%)"
         },
         "type": "linear"
        }
       }
      },
      "image/png": "[encoded data removed]",
      "text/html": [
       "<div>                            <div id=\"fe179715-f5da-422d-a9fe-0ff4102c2715\" class=\"plotly-graph-div\" style=\"height:525px; width:100%;\"></div>            <script type=\"text/javascript\">                require([\"plotly\"], function(Plotly) {                    window.PLOTLYENV=window.PLOTLYENV || {};                                    if (document.getElementById(\"fe179715-f5da-422d-a9fe-0ff4102c2715\")) {                    Plotly.newPlot(                        \"fe179715-f5da-422d-a9fe-0ff4102c2715\",                        [{\"mode\":\"lines+markers\",\"name\":\"Mangrove Coverage\",\"x\":[2016,2017,2018,2019,2020],\"y\":[54.06080695276705,54.932745685666376,55.64906757526352,54.91639683442451,53.051416766834286],\"type\":\"scatter\"},{\"mode\":\"lines+markers\",\"name\":\"Change Rate (%)\",\"x\":[2016,2017,2018,2019,2020],\"y\":[0,1.6128851603364647,1.3039979718036503,-1.3165912256267351,-3.396035018854616],\"yaxis\":\"y2\",\"type\":\"scatter\"}],                        {\"template\":{\"data\":{\"histogram2dcontour\":[{\"type\":\"histogram2dcontour\",\"colorbar\":{\"outlinewidth\":0,\"ticks\":\"\"},\"colorscale\":[[0.0,\"#0d0887\"],[0.1111111111111111,\"#46039f\"],[0.2222222222222222,\"#7201a8\"],[0.3333333333333333,\"#9c179e\"],[0.4444444444444444,\"#bd3786\"],[0.5555555555555556,\"#d8576b\"],[0.6666666666666666,\"#ed7953\"],[0.7777777777777778,\"#fb9f3a\"],[0.8888888888888888,\"#fdca26\"],[1.0,\"#f0f921\"]]}],\"choropleth\":[{\"type\":\"choropleth\",\"colorbar\":{\"outlinewidth\":0,\"ticks\":\"\"}}],\"histogram2d\":[{\"type\":\"histogram2d\",\"colorbar\":{\"outlinewidth\":0,\"ticks\":\"\"},\"colorscale\":[[0.0,\"#0d0887\"],[0.1111111111111111,\"#46039f\"],[0.2222222222222222,\"#7201a8\"],[0.3333333333333333,\"#9c179e\"],[0.4444444444444444,\"#bd3786\"],[0.5555555555555556,\"#d8576b\"],[0.6666666666666666,\"#ed7953\"],[0.7777777777777778,\"#fb9f3a\"],[0.8888888888888888,\"#fdca26\"],[1.0,\"#f0f921\"]]}],\"heatmap\":[{\"type\":\"heatmap\",\"colorbar\":{\"outlinewidth\":0,\"ticks\":\"\"},\"colorscale\":[[0.0,\"#0d0887\"],[0.1111111111111111,\"#46039f\"],[0.2222222222222222,\"#7201a8\"],[0.3333333333333333,\"#9c179e\"],[0.4444444444444444,\"#bd3786\"],[0.5555555555555556,\"#d8576b\"],[0.6666666666666666,\"#ed7953\"],[0.7777777777777778,\"#fb9f3a\"],[0.8888888888888888,\"#fdca26\"],[1.0,\"#f0f921\"]]}],\"heatmapgl\":[{\"type\":\"heatmapgl\",\"colorbar\":{\"outlinewidth\":0,\"ticks\":\"\"},\"colorscale\":[[0.0,\"#0d0887\"],[0.1111111111111111,\"#46039f\"],[0.2222222222222222,\"#7201a8\"],[0.3333333333333333,\"#9c179e\"],[0.4444444444444444,\"#bd3786\"],[0.5555555555555556,\"#d8576b\"],[0.6666666666666666,\"#ed7953\"],[0.7777777777777778,\"#fb9f3a\"],[0.8888888888888888,\"#fdca26\"],[1.0,\"#f0f921\"]]}],\"contourcarpet\":[{\"type\":\"contourcarpet\",\"colorbar\":{\"outlinewidth\":0,\"ticks\":\"\"}}],\"contour\":[{\"type\":\"contour\",\"colorbar\":{\"outlinewidth\":0,\"ticks\":\"\"},\"colorscale\":[[0.0,\"#0d0887\"],[0.1111111111111111,\"#46039f\"],[0.2222222222222222,\"#7201a8\"],[0.3333333333333333,\"#9c179e\"],[0.4444444444444444,\"#bd3786\"],[0.5555555555555556,\"#d8576b\"],[0.6666666666666666,\"#ed7953\"],[0.7777777777777778,\"#fb9f3a\"],[0.8888888888888888,\"#fdca26\"],[1.0,\"#f0f921\"]]}],\"surface\":[{\"type\":\"surface\",\"colorbar\":{\"outlinewidth\":0,\"ticks\":\"\"},\"colorscale\":[[0.0,\"#0d0887\"],[0.1111111111111111,\"#46039f\"],[0.2222222222222222,\"#7201a8\"],[0.3333333333333333,\"#9c179e\"],[0.4444444444444444,\"#bd3786\"],[0.5555555555555556,\"#d8576b\"],[0.6666666666666666,\"#ed7953\"],[0.7777777777777778,\"#fb9f3a\"],[0.8888888888888888,\"#fdca26\"],[1.0,\"#f0f921\"]]}],\"mesh3d\":[{\"type\":\"mesh3d\",\"colorbar\":{\"outlinewidth\":0,\"ticks\":\"\"}}],\"scatter\":[{\"fillpattern\":{\"fillmode\":\"overlay\",\"size\":10,\"solidity\":0.2},\"type\":\"scatter\"}],\"parcoords\":[{\"type\":\"parcoords\",\"line\":{\"colorbar\":{\"outlinewidth\":0,\"ticks\":\"\"}}}],\"scatterpolargl\":[{\"type\":\"scatterpolargl\",\"marker\":{\"colorbar\":{\"outlinewidth\":0,\"ticks\":\"\"}}}],\"bar\":[{\"error_x\":{\"color\":\"#2a3f5f\"},\"error_y\":{\"color\":\"#2a3f5f\"},\"marker\":{\"line\":{\"color\":\"#E5ECF6\",\"width\":0.5},\"pattern\":{\"fillmode\":\"overlay\",\"size\":10,\"solidity\":0.2}},\"type\":\"bar\"}],\"scattergeo\":[{\"type\":\"scattergeo\",\"marker\":{\"colorbar\":{\"outlinewidth\":0,\"ticks\":\"\"}}}],\"scatterpolar\":[{\"type\":\"scatterpolar\",\"marker\":{\"colorbar\":{\"outlinewidth\":0,\"ticks\":\"\"}}}],\"histogram\":[{\"marker\":{\"pattern\":{\"fillmode\":\"overlay\",\"size\":10,\"solidity\":0.2}},\"type\":\"histogram\"}],\"scattergl\":[{\"type\":\"scattergl\",\"marker\":{\"colorbar\":{\"outlinewidth\":0,\"ticks\":\"\"}}}],\"scatter3d\":[{\"type\":\"scatter3d\",\"line\":{\"colorbar\":{\"outlinewidth\":0,\"ticks\":\"\"}},\"marker\":{\"colorbar\":{\"outlinewidth\":0,\"ticks\":\"\"}}}],\"scattermapbox\":[{\"type\":\"scattermapbox\",\"marker\":{\"colorbar\":{\"outlinewidth\":0,\"ticks\":\"\"}}}],\"scatterternary\":[{\"type\":\"scatterternary\",\"marker\":{\"colorbar\":{\"outlinewidth\":0,\"ticks\":\"\"}}}],\"scattercarpet\":[{\"type\":\"scattercarpet\",\"marker\":{\"colorbar\":{\"outlinewidth\":0,\"ticks\":\"\"}}}],\"carpet\":[{\"aaxis\":{\"endlinecolor\":\"#2a3f5f\",\"gridcolor\":\"white\",\"linecolor\":\"white\",\"minorgridcolor\":\"white\",\"startlinecolor\":\"#2a3f5f\"},\"baxis\":{\"endlinecolor\":\"#2a3f5f\",\"gridcolor\":\"white\",\"linecolor\":\"white\",\"minorgridcolor\":\"white\",\"startlinecolor\":\"#2a3f5f\"},\"type\":\"carpet\"}],\"table\":[{\"cells\":{\"fill\":{\"color\":\"#EBF0F8\"},\"line\":{\"color\":\"white\"}},\"header\":{\"fill\":{\"color\":\"#C8D4E3\"},\"line\":{\"color\":\"white\"}},\"type\":\"table\"}],\"barpolar\":[{\"marker\":{\"line\":{\"color\":\"#E5ECF6\",\"width\":0.5},\"pattern\":{\"fillmode\":\"overlay\",\"size\":10,\"solidity\":0.2}},\"type\":\"barpolar\"}],\"pie\":[{\"automargin\":true,\"type\":\"pie\"}]},\"layout\":{\"autotypenumbers\":\"strict\",\"colorway\":[\"#636efa\",\"#EF553B\",\"#00cc96\",\"#ab63fa\",\"#FFA15A\",\"#19d3f3\",\"#FF6692\",\"#B6E880\",\"#FF97FF\",\"#FECB52\"],\"font\":{\"color\":\"#2a3f5f\"},\"hovermode\":\"closest\",\"hoverlabel\":{\"align\":\"left\"},\"paper_bgcolor\":\"white\",\"plot_bgcolor\":\"#E5ECF6\",\"polar\":{\"bgcolor\":\"#E5ECF6\",\"angularaxis\":{\"gridcolor\":\"white\",\"linecolor\":\"white\",\"ticks\":\"\"},\"radialaxis\":{\"gridcolor\":\"white\",\"linecolor\":\"white\",\"ticks\":\"\"}},\"ternary\":{\"bgcolor\":\"#E5ECF6\",\"aaxis\":{\"gridcolor\":\"white\",\"linecolor\":\"white\",\"ticks\":\"\"},\"baxis\":{\"gridcolor\":\"white\",\"linecolor\":\"white\",\"ticks\":\"\"},\"caxis\":{\"gridcolor\":\"white\",\"linecolor\":\"white\",\"ticks\":\"\"}},\"coloraxis\":{\"colorbar\":{\"outlinewidth\":0,\"ticks\":\"\"}},\"colorscale\":{\"sequential\":[[0.0,\"#0d0887\"],[0.1111111111111111,\"#46039f\"],[0.2222222222222222,\"#7201a8\"],[0.3333333333333333,\"#9c179e\"],[0.4444444444444444,\"#bd3786\"],[0.5555555555555556,\"#d8576b\"],[0.6666666666666666,\"#ed7953\"],[0.7777777777777778,\"#fb9f3a\"],[0.8888888888888888,\"#fdca26\"],[1.0,\"#f0f921\"]],\"sequentialminus\":[[0.0,\"#0d0887\"],[0.1111111111111111,\"#46039f\"],[0.2222222222222222,\"#7201a8\"],[0.3333333333333333,\"#9c179e\"],[0.4444444444444444,\"#bd3786\"],[0.5555555555555556,\"#d8576b\"],[0.6666666666666666,\"#ed7953\"],[0.7777777777777778,\"#fb9f3a\"],[0.8888888888888888,\"#fdca26\"],[1.0,\"#f0f921\"]],\"diverging\":[[0,\"#8e0152\"],[0.1,\"#c51b7d\"],[0.2,\"#de77ae\"],[0.3,\"#f1b6da\"],[0.4,\"#fde0ef\"],[0.5,\"#f7f7f7\"],[0.6,\"#e6f5d0\"],[0.7,\"#b8e186\"],[0.8,\"#7fbc41\"],[0.9,\"#4d9221\"],[1,\"#276419\"]]},\"xaxis\":{\"gridcolor\":\"white\",\"linecolor\":\"white\",\"ticks\":\"\",\"title\":{\"standoff\":15},\"zerolinecolor\":\"white\",\"automargin\":true,\"zerolinewidth\":2},\"yaxis\":{\"gridcolor\":\"white\",\"linecolor\":\"white\",\"ticks\":\"\",\"title\":{\"standoff\":15},\"zerolinecolor\":\"white\",\"automargin\":true,\"zerolinewidth\":2},\"scene\":{\"xaxis\":{\"backgroundcolor\":\"#E5ECF6\",\"gridcolor\":\"white\",\"linecolor\":\"white\",\"showbackground\":true,\"ticks\":\"\",\"zerolinecolor\":\"white\",\"gridwidth\":2},\"yaxis\":{\"backgroundcolor\":\"#E5ECF6\",\"gridcolor\":\"white\",\"linecolor\":\"white\",\"showbackground\":true,\"ticks\":\"\",\"zerolinecolor\":\"white\",\"gridwidth\":2},\"zaxis\":{\"backgroundcolor\":\"#E5ECF6\",\"gridcolor\":\"white\",\"linecolor\":\"white\",\"showbackground\":true,\"ticks\":\"\",\"zerolinecolor\":\"white\",\"gridwidth\":2}},\"shapedefaults\":{\"line\":{\"color\":\"#2a3f5f\"}},\"annotationdefaults\":{\"arrowcolor\":\"#2a3f5f\",\"arrowhead\":0,\"arrowwidth\":1},\"geo\":{\"bgcolor\":\"white\",\"landcolor\":\"#E5ECF6\",\"subunitcolor\":\"white\",\"showland\":true,\"showlakes\":true,\"lakecolor\":\"white\"},\"title\":{\"x\":0.05},\"mapbox\":{\"style\":\"light\"}}},\"xaxis\":{\"title\":{\"text\":\"Year\"},\"tickmode\":\"linear\",\"dtick\":1},\"yaxis2\":{\"title\":{\"text\":\"Change Rate (%)\"},\"overlaying\":\"y\",\"side\":\"right\"},\"title\":{\"text\":\"Changes in Mangrove Coverage Over Time\"},\"yaxis\":{\"title\":{\"text\":\"Mangrove Coverage (km\\u00b2)\"}},\"hovermode\":\"closest\"},                        {\"responsive\": true}                    ).then(function(){\n",
       "                            \n",
       "var gd = document.getElementById('fe179715-f5da-422d-a9fe-0ff4102c2715');\n",
       "var x = new MutationObserver(function (mutations, observer) {{\n",
       "        var display = window.getComputedStyle(gd).display;\n",
       "        if (!display || display === 'none') {{\n",
       "            console.log([gd, 'removed!']);\n",
       "            Plotly.purge(gd);\n",
       "            observer.disconnect();\n",
       "        }}\n",
       "}});\n",
       "\n",
       "// Listen for the removal of the full notebook cells\n",
       "var notebookContainer = gd.closest('#notebook-container');\n",
       "if (notebookContainer) {{\n",
       "    x.observe(notebookContainer, {childList: true});\n",
       "}}\n",
       "\n",
       "// Listen for the clearing of the current output cell\n",
       "var outputEl = gd.closest('.output');\n",
       "if (outputEl) {{\n",
       "    x.observe(outputEl, {childList: true});\n",
       "}}\n",
       "\n",
       "                        })                };                });            </script>        </div>"
      ]
     },
     "metadata": {},
     "output_type": "display_data"
    }
   ],
   "source": [
    "# Create a Plotly figure\n",
    "fig = go.Figure()\n",
    "\n",
    "# Add trace for mangrove coverage over time\n",
    "fig.add_trace(go.Scatter(x=years, y=coverages, mode='lines+markers', name='Mangrove Coverage'))\n",
    "# Create a second y-axis\n",
    "fig.add_trace(go.Scatter(x=years, y=change_rates, mode='lines+markers', name='Change Rate (%)', yaxis='y2'))\n",
    "# Update layout\n",
    "fig.update_layout(title='Changes in Mangrove Coverage Over Time',\n",
    "                  xaxis_title='Year',\n",
    "                  yaxis_title=f'Mangrove Coverage (km\\u00b2)',\n",
    "                  hovermode='closest',\n",
    "                  xaxis=dict(tickmode='linear', dtick=1),  # Ensure years are displayed as whole numbers\n",
    "                  yaxis2=dict(title='Change Rate (%)', overlaying='y', side='right')  # Define second y-axis\n",
    ")\n",
    "\n",
    "# Show the figure\n",
    "fig.show()"
   ]
  },
  {
   "cell_type": "markdown",
   "id": "15925b92-bd07-45c0-81c8-ca826d24e448",
   "metadata": {},
   "source": [
    "### c5. Summary"
   ]
  },
  {
   "cell_type": "markdown",
   "id": "5e274a99-c5cf-4b64-8cd2-2e47d4e5fa5b",
   "metadata": {},
   "source": [
    "The data illustrates the fluctuation in mangrove coverage over the years 2016 to 2020. Starting from 54.06 km² in 2016, the coverage increased steadily to 55.65 km² by 2018, but then experienced a decline to 53.05 km² by 2020. This pattern suggests both periods of growth and decline in mangrove coverage over the observed timeframe. Moreover, the spatial pattern of mangrove coverage appears to be scattered, indicating variations in the rates and directions of change across different regions. \n",
    "\n",
    "The change rate from year to year is relatively modest, ranging from an increase of +1.6% to a decrease of -3.4%. Despite this general trend of low variability, the observed decline in mangrove coverage by 2020 warrants closer examination. It is essential to pinpoint the specific locations where this decline occurred and to investigate potential factors contributing to it. Additionally, conducting thorough assessments can help rule out the possibility of mapping errors, ensuring the accuracy of the findings."
   ]
  },
  {
   "cell_type": "markdown",
   "id": "c9f9e8e5-2224-4b0d-a6e0-4bf03f26f86f",
   "metadata": {},
   "source": [
    "# Case Two: Coastal flood risk datasets and visualisation\n",
    "The visualisation of each dataset has a zoom in to the same area of interest of Case One."
   ]
  },
  {
   "cell_type": "markdown",
   "id": "4a728d15-5e08-48ce-9f05-a36d83fac2d0",
   "metadata": {},
   "source": [
    "### [WRI Aqueduct Floods Hazard Maps Version 2](https://developers.google.com/earth-engine/datasets/catalog/WRI_Aqueduct_Flood_Hazard_Maps_V2)\n",
    "This relatively coarser resolution dataset can be used to evaluate the riverine and coastal food risks under both current baseline conditions and future projections in 2030, 2050, and 2080.\n",
    "\n",
    "Resolution: 10000 m\n",
    "\n",
    "The dataset is rich in information. [Click for more info](https://www.wri.org/data/aqueduct-floods-hazard-maps)"
   ]
  },
  {
   "cell_type": "code",
   "execution_count": 43,
   "id": "38f5dacf-511e-43ee-8b44-507382f4ebc1",
   "metadata": {},
   "outputs": [
    {
     "data": {
      "text/html": [
       "\n",
       "            <style>\n",
       "                .geemap-dark {\n",
       "                    --jp-widgets-color: white;\n",
       "                    --jp-widgets-label-color: white;\n",
       "                    --jp-ui-font-color1: white;\n",
       "                    --jp-layout-color2: #454545;\n",
       "                    background-color: #383838;\n",
       "                }\n",
       "\n",
       "                .geemap-dark .jupyter-button {\n",
       "                    --jp-layout-color3: #383838;\n",
       "                }\n",
       "\n",
       "                .geemap-colab {\n",
       "                    background-color: var(--colab-primary-surface-color, white);\n",
       "                }\n",
       "\n",
       "                .geemap-colab .jupyter-button {\n",
       "                    --jp-layout-color3: var(--colab-primary-surface-color, white);\n",
       "                }\n",
       "            </style>\n",
       "            "
      ],
      "text/plain": [
       "<IPython.core.display.HTML object>"
      ]
     },
     "metadata": {},
     "output_type": "display_data"
    },
    {
     "name": "stdout",
     "output_type": "stream",
     "text": [
      "1\n"
     ]
    }
   ],
   "source": [
    "aquaduct = (ee.ImageCollection(\"WRI/Aqueduct_Flood_Hazard_Maps/V2\")\n",
    "                .filter(ee.Filter.eq(\"climatescenario\",\"rcp4p5\")) #Representative Concentration Pathway 4.5 (rising carbon emissions)\n",
    "                .filter(ee.Filter.eq(\"floodtype\",\"inuncoast\")) #coastal\n",
    "                .filter(ee.Filter.eq(\"projection\",50)) # Sea level change 50% (medium)\n",
    "                .filter(ee.Filter.eq(\"returnperiod\",250)) # Flood magnitude (return period in years)\n",
    "                .filter(ee.Filter.eq(\"subsidence\",\"nosub\")) # Subsidence refers to the lowering of land levels.\n",
    "                .filter(ee.Filter.eq(\"year\",2030))# Furture year of 2030\n",
    "                .filterBounds(roi)\n",
    "           )\n",
    "print (aquaduct.size().getInfo())"
   ]
  },
  {
   "cell_type": "markdown",
   "id": "c7747499-5db2-466b-939e-3b04488c5fc0",
   "metadata": {},
   "source": [
    "## Visualization shows the coastal flood risk under medium level of sea level change risk"
   ]
  },
  {
   "cell_type": "code",
   "execution_count": 44,
   "id": "5cfaeb1d-abdd-4981-8485-1ecc781222e5",
   "metadata": {},
   "outputs": [
    {
     "data": {
      "text/html": [
       "\n",
       "            <style>\n",
       "                .geemap-dark {\n",
       "                    --jp-widgets-color: white;\n",
       "                    --jp-widgets-label-color: white;\n",
       "                    --jp-ui-font-color1: white;\n",
       "                    --jp-layout-color2: #454545;\n",
       "                    background-color: #383838;\n",
       "                }\n",
       "\n",
       "                .geemap-dark .jupyter-button {\n",
       "                    --jp-layout-color3: #383838;\n",
       "                }\n",
       "\n",
       "                .geemap-colab {\n",
       "                    background-color: var(--colab-primary-surface-color, white);\n",
       "                }\n",
       "\n",
       "                .geemap-colab .jupyter-button {\n",
       "                    --jp-layout-color3: var(--colab-primary-surface-color, white);\n",
       "                }\n",
       "            </style>\n",
       "            "
      ],
      "text/plain": [
       "<IPython.core.display.HTML object>"
      ]
     },
     "metadata": {},
     "output_type": "display_data"
    },
    {
     "data": {
      "application/vnd.jupyter.widget-view+json": {
       "model_id": "b2d36906f89344408819fbcf7a2927c8",
       "version_major": 2,
       "version_minor": 0
      },
      "text/plain": [
       "Map(center=[5.81621360818146, 0.7511877748750028], controls=(WidgetControl(options=['position', 'transparent_b…"
      ]
     },
     "execution_count": 44,
     "metadata": {},
     "output_type": "execute_result"
    }
   ],
   "source": [
    "m = geemap.Map(center=(lat, lon), zoom=10)\n",
    "\n",
    "inundationDepthVis = {\n",
    "  \"min\": 0,\n",
    "  \"max\": 1,\n",
    "  \"palette\": ['ffffff','0000ff'],\n",
    "};\n",
    "m.add_layer(aquaduct.mosaic().selfMask(), inundationDepthVis, \"Coastal flood risk under the medium level of sea level change\")\n",
    "\n",
    "m"
   ]
  },
  {
   "cell_type": "markdown",
   "id": "eb536fe1-49e9-4325-9f8f-14403273d48d",
   "metadata": {},
   "source": [
    "## Annual probablity of flood under this scenario"
   ]
  },
  {
   "cell_type": "code",
   "execution_count": 47,
   "id": "db181f95-8cd0-4ecb-acbe-60424a0eabe5",
   "metadata": {},
   "outputs": [
    {
     "data": {
      "text/html": [
       "\n",
       "            <style>\n",
       "                .geemap-dark {\n",
       "                    --jp-widgets-color: white;\n",
       "                    --jp-widgets-label-color: white;\n",
       "                    --jp-ui-font-color1: white;\n",
       "                    --jp-layout-color2: #454545;\n",
       "                    background-color: #383838;\n",
       "                }\n",
       "\n",
       "                .geemap-dark .jupyter-button {\n",
       "                    --jp-layout-color3: #383838;\n",
       "                }\n",
       "\n",
       "                .geemap-colab {\n",
       "                    background-color: var(--colab-primary-surface-color, white);\n",
       "                }\n",
       "\n",
       "                .geemap-colab .jupyter-button {\n",
       "                    --jp-layout-color3: var(--colab-primary-surface-color, white);\n",
       "                }\n",
       "            </style>\n",
       "            "
      ],
      "text/plain": [
       "<IPython.core.display.HTML object>"
      ]
     },
     "metadata": {},
     "output_type": "display_data"
    },
    {
     "data": {
      "application/vnd.jupyter.widget-view+json": {
       "model_id": "50090428a67849149035fb74f5b0e49f",
       "version_major": 2,
       "version_minor": 0
      },
      "text/plain": [
       "Map(center=[5.81621360818146, 0.7511877748750028], controls=(WidgetControl(options=['position', 'transparent_b…"
      ]
     },
     "execution_count": 47,
     "metadata": {},
     "output_type": "execute_result"
    }
   ],
   "source": [
    "m = geemap.Map(center=(lat, lon), zoom=10)\n",
    "\n",
    "inundationDepthVis = {\n",
    "  \"min\": 0,\n",
    "  \"max\": 10,\n",
    "  \"palette\": ['ffffff','red'],\n",
    "};\n",
    "m.add_layer(aquaduct.mosaic().selfMask().divide(250).multiply(100), inundationDepthVis, \"Annual probablity of flood\")\n",
    "\n",
    "m"
   ]
  },
  {
   "cell_type": "markdown",
   "id": "5a27efc0-1b84-49b5-9d15-9263c2060d08",
   "metadata": {},
   "source": [
    "### [Global Flood Database v1 (2000-2018)](https://developers.google.com/earth-engine/datasets/catalog/GLOBAL_FLOOD_DB_MODIS_EVENTS_V1) \n",
    "This dataset covers 931 flood events from 2000 to 2018. It is suitable to understand the time, extent and duration of past flood events.\n",
    "\n",
    "The mapped floodplain aligns well with what WRI map captured, but with higher granularity.\n",
    "\n",
    "Resolution: 30 m"
   ]
  },
  {
   "cell_type": "code",
   "execution_count": 50,
   "id": "35ee1d7f",
   "metadata": {},
   "outputs": [
    {
     "data": {
      "text/html": [
       "\n",
       "            <style>\n",
       "                .geemap-dark {\n",
       "                    --jp-widgets-color: white;\n",
       "                    --jp-widgets-label-color: white;\n",
       "                    --jp-ui-font-color1: white;\n",
       "                    --jp-layout-color2: #454545;\n",
       "                    background-color: #383838;\n",
       "                }\n",
       "\n",
       "                .geemap-dark .jupyter-button {\n",
       "                    --jp-layout-color3: #383838;\n",
       "                }\n",
       "\n",
       "                .geemap-colab {\n",
       "                    background-color: var(--colab-primary-surface-color, white);\n",
       "                }\n",
       "\n",
       "                .geemap-colab .jupyter-button {\n",
       "                    --jp-layout-color3: var(--colab-primary-surface-color, white);\n",
       "                }\n",
       "            </style>\n",
       "            "
      ],
      "text/plain": [
       "<IPython.core.display.HTML object>"
      ]
     },
     "metadata": {},
     "output_type": "display_data"
    }
   ],
   "source": [
    "\n",
    "gfd = ee.ImageCollection('GLOBAL_FLOOD_DB/MODIS_EVENTS/V1')\n",
    "gfdFloodedSum = gfd.select('flooded').sum();\n"
   ]
  },
  {
   "cell_type": "code",
   "execution_count": 51,
   "id": "d3d4d2c4-f3f1-4a8f-8ff9-56ee349fbbac",
   "metadata": {},
   "outputs": [
    {
     "data": {
      "text/html": [
       "\n",
       "            <style>\n",
       "                .geemap-dark {\n",
       "                    --jp-widgets-color: white;\n",
       "                    --jp-widgets-label-color: white;\n",
       "                    --jp-ui-font-color1: white;\n",
       "                    --jp-layout-color2: #454545;\n",
       "                    background-color: #383838;\n",
       "                }\n",
       "\n",
       "                .geemap-dark .jupyter-button {\n",
       "                    --jp-layout-color3: #383838;\n",
       "                }\n",
       "\n",
       "                .geemap-colab {\n",
       "                    background-color: var(--colab-primary-surface-color, white);\n",
       "                }\n",
       "\n",
       "                .geemap-colab .jupyter-button {\n",
       "                    --jp-layout-color3: var(--colab-primary-surface-color, white);\n",
       "                }\n",
       "            </style>\n",
       "            "
      ],
      "text/plain": [
       "<IPython.core.display.HTML object>"
      ]
     },
     "metadata": {},
     "output_type": "display_data"
    },
    {
     "data": {
      "application/vnd.jupyter.widget-view+json": {
       "model_id": "1a67775b6a6945e8887530ddc255ba97",
       "version_major": 2,
       "version_minor": 0
      },
      "text/plain": [
       "Map(center=[5.81621360818146, 0.7511877748750028], controls=(WidgetControl(options=['position', 'transparent_b…"
      ]
     },
     "execution_count": 51,
     "metadata": {},
     "output_type": "execute_result"
    }
   ],
   "source": [
    "m = geemap.Map(center=(lat, lon), zoom=10)\n",
    "\n",
    "Vis = {\n",
    "  \"min\": 0,\n",
    "  \"max\": 10,\n",
    "  \"palette\": ['c3effe', '1341e8', '051cb0', '001133'],\n",
    "};\n",
    "m.add_layer(gfdFloodedSum, Vis, \"GFD Satellite Observed Flood Plain\")\n",
    "\n",
    "m"
   ]
  },
  {
   "cell_type": "markdown",
   "id": "3ae98242-10ff-4187-bb07-ac0b5a7d6dfb",
   "metadata": {},
   "source": [
    "### [JRC Global Surface Water Mapping Layers, v1.4](https://developers.google.com/earth-engine/datasets/catalog/JRC_GSW1_4_GlobalSurfaceWater)\n",
    "\n",
    "JRC and the other [GLAD](https://glad.umd.edu/dataset/global-surface-water-dynamics) products captures surface water extent and dynamics globally from 1984-2022.\n",
    "\n",
    "The datasets do not explicitly capture flood event, but can show permannante and seasonal water in detailed spatial-temporal patterns.\n",
    "\n",
    "The sub-datasets also allow futher analysis at monthly frequency.\n",
    "\n",
    "Resolution: 30 m."
   ]
  },
  {
   "cell_type": "code",
   "execution_count": null,
   "id": "0e4b9a85-ac1c-4532-85ef-6b0672ce62ae",
   "metadata": {},
   "outputs": [],
   "source": [
    "jrc = ee.Image('JRC/GSW1_4/GlobalSurfaceWater')"
   ]
  }
 ],
 "metadata": {
  "kernelspec": {
   "display_name": "Python 3 (ipykernel)",
   "language": "python",
   "name": "python3"
  },
  "language_info": {
   "codemirror_mode": {
    "name": "ipython",
    "version": 3
   },
   "file_extension": ".py",
   "mimetype": "text/x-python",
   "name": "python",
   "nbconvert_exporter": "python",
   "pygments_lexer": "ipython3",
   "version": "3.10.6"
  }
 },
 "nbformat": 4,
 "nbformat_minor": 5
}
